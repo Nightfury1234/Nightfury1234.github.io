{
  "nbformat": 4,
  "nbformat_minor": 0,
  "metadata": {
    "colab": {
      "name": "Copy of SketchAI_PWAIC.ipynb",
      "version": "0.3.2",
      "provenance": [],
      "collapsed_sections": []
    },
    "kernelspec": {
      "name": "python3",
      "display_name": "Python 3"
    },
    "accelerator": "GPU"
  },
  "cells": [
    {
      "cell_type": "markdown",
      "metadata": {
        "id": "0zDvRUcFhFGA",
        "colab_type": "text"
      },
      "source": [
        "# I. Preparing the Data"
      ]
    },
    {
      "cell_type": "markdown",
      "metadata": {
        "id": "YDvwS0JRpJL3",
        "colab_type": "text"
      },
      "source": [
        "### Imports"
      ]
    },
    {
      "cell_type": "code",
      "metadata": {
        "id": "0wQlqvamo_oL",
        "colab_type": "code",
        "colab": {}
      },
      "source": [
        "import os\n",
        "import glob\n",
        "import numpy as np\n",
        "from tensorflow.keras import layers\n",
        "from tensorflow import keras\n",
        "import tensorflow as tf\n",
        "import urllib.request"
      ],
      "execution_count": 0,
      "outputs": []
    },
    {
      "cell_type": "markdown",
      "metadata": {
        "id": "ch26Nk40iRVe",
        "colab_type": "text"
      },
      "source": [
        "### Getting the list of classes"
      ]
    },
    {
      "cell_type": "code",
      "metadata": {
        "id": "iTlb1rvriaFf",
        "colab_type": "code",
        "colab": {}
      },
      "source": [
        "if not os.path.isfile(\"sketchAI_classList.txt\"):\n",
        "    os.system(\"\"\"wget 'https://raw.githubusercontent.com/pwaic/pwaic.github.io/master/projects/SketchAI/sketchAI_classList.txt'\"\"\")"
      ],
      "execution_count": 0,
      "outputs": []
    },
    {
      "cell_type": "code",
      "metadata": {
        "id": "s8jfPcFEih4U",
        "colab_type": "code",
        "outputId": "295fb248-8c47-4bba-c639-988559cefca4",
        "colab": {
          "base_uri": "https://localhost:8080/",
          "height": 89
        }
      },
      "source": [
        "all_classes = []\n",
        "\n",
        "with open('sketchAI_classList.txt', 'r') as f:\n",
        "    all_classes = f.readlines()\n",
        "\n",
        "all_classes = [x.strip('\\r\\n\\t ') for x in all_classes]\n",
        "print(all_classes)"
      ],
      "execution_count": 0,
      "outputs": [
        {
          "output_type": "stream",
          "text": [
            "['drums', 'sun', 'laptop', 'anvil', 'baseball_bat', 'ladder', 'eyeglasses', 'grapes', 'book', 'dumbbell', 'traffic_light', 'wristwatch', 'wheel', 'shovel', 'bread', 'table', 'tennis_racquet', 'cloud', 'chair', 'headphones', 'face', 'eye', 'airplane', 'snake', 'lollipop', 'power_outlet', 'pants', 'mushroom', 'star', 'sword', 'clock', 'hot_dog', 'syringe', 'stop_sign', 'mountain', 'smiley_face', 'apple', 'bed', 'shorts', 'broom', 'diving_board', 'flower', 'spider', 'cell_phone', 'car', 'camera', 'tree', 'square', 'moon', 'radio', 'hat', 'pizza', 'axe', 'door', 'tent', 'umbrella', 'line', 'cup', 'fan', 'triangle', 'basketball', 'pillow', 'scissors', 't-shirt', 'tooth', 'alarm_clock', 'paper_clip', 'spoon', 'microphone', 'candle', 'pencil', 'envelope', 'saw', 'frying_pan', 'screwdriver', 'helmet', 'bridge', 'light_bulb', 'ceiling_fan', 'key', 'donut', 'bird', 'circle', 'beard', 'coffee_cup', 'butterfly', 'bench', 'rifle', 'cat', 'sock', 'ice_cream', 'moustache', 'suitcase', 'hammer', 'rainbow', 'knife', 'cookie', 'baseball', 'lightning', 'bicycle']\n"
          ],
          "name": "stdout"
        }
      ]
    },
    {
      "cell_type": "markdown",
      "metadata": {
        "id": "Fd3A7z-hicER",
        "colab_type": "text"
      },
      "source": [
        "### Download data off Google servers"
      ]
    },
    {
      "cell_type": "code",
      "metadata": {
        "id": "nI6R8GKMjWsq",
        "colab_type": "code",
        "colab": {}
      },
      "source": [
        "if not os.path.isdir('data'):\n",
        "    os.mkdir('data')\n",
        "\n",
        "    base = 'https://storage.googleapis.com/quickdraw_dataset/full/numpy_bitmap/'\n",
        "    for c in all_classes:\n",
        "        cls_url = c.replace('_', '%20')\n",
        "        path = base + cls_url + '.npy'\n",
        "        print(path)\n",
        "        urllib.request.urlretrieve(path, 'data/' + c + '.npy')"
      ],
      "execution_count": 0,
      "outputs": []
    },
    {
      "cell_type": "markdown",
      "metadata": {
        "id": "vDU8D6VumRLj",
        "colab_type": "text"
      },
      "source": [
        "### Load data"
      ]
    },
    {
      "cell_type": "code",
      "metadata": {
        "id": "6-SU8noqmTAQ",
        "colab_type": "code",
        "colab": {}
      },
      "source": [
        "def load_data(root, vfold_ratio=0.2, max_items_per_class= 5000):\n",
        "    all_files = glob.glob(os.path.join(root, '*.npy'))\n",
        "\n",
        "    #initialize variables \n",
        "    x = np.empty([0, 784])\n",
        "    y = np.empty([0])\n",
        "    class_names = []\n",
        "\n",
        "    #load each data file \n",
        "    for idx, file in enumerate(all_files):\n",
        "        data = np.load(file)\n",
        "        data = data[0: max_items_per_class, :]\n",
        "        labels = np.full(data.shape[0], idx)\n",
        "\n",
        "        x = np.concatenate((x, data), axis=0)\n",
        "        y = np.append(y, labels)\n",
        "\n",
        "        class_name, ext = os.path.splitext(os.path.basename(file))\n",
        "        class_names.append(class_name)\n",
        "\n",
        "    data = None\n",
        "    labels = None\n",
        "    \n",
        "    #randomize the dataset \n",
        "    permutation = np.random.permutation(y.shape[0])\n",
        "    x = x[permutation, :]\n",
        "    y = y[permutation]\n",
        "\n",
        "    #separate into training and testing \n",
        "    vfold_size = int(x.shape[0] / 100 * (vfold_ratio * 100))\n",
        "\n",
        "    x_test = x[0:vfold_size, :]\n",
        "    y_test = y[0:vfold_size]\n",
        "\n",
        "    x_train = x[vfold_size:x.shape[0], :]\n",
        "    y_train = y[vfold_size:y.shape[0]]\n",
        "    return x_train, y_train, x_test, y_test, class_names"
      ],
      "execution_count": 0,
      "outputs": []
    },
    {
      "cell_type": "code",
      "metadata": {
        "id": "J8OsztGRnJwK",
        "colab_type": "code",
        "outputId": "159d5062-1acf-46ca-d181-5a8168f36a5a",
        "colab": {
          "base_uri": "https://localhost:8080/",
          "height": 34
        }
      },
      "source": [
        "x_train, y_train, x_test, y_test, class_names = load_data('data')\n",
        "num_classes = len(class_names)\n",
        "image_size = 28\n",
        "print(len(y_train))"
      ],
      "execution_count": 0,
      "outputs": [
        {
          "output_type": "stream",
          "text": [
            "400000\n"
          ],
          "name": "stdout"
        }
      ]
    },
    {
      "cell_type": "markdown",
      "metadata": {
        "id": "N0cJYtXHnbzt",
        "colab_type": "text"
      },
      "source": [
        "### Show some random data"
      ]
    },
    {
      "cell_type": "code",
      "metadata": {
        "id": "0PQhPT65ndjB",
        "colab_type": "code",
        "outputId": "29962f7b-22c8-435c-b7ef-4762bace8a70",
        "colab": {
          "base_uri": "https://localhost:8080/",
          "height": 286
        }
      },
      "source": [
        "import matplotlib.pyplot as plt\n",
        "from random import randint\n",
        "%matplotlib inline  \n",
        "idx = randint(0, len(x_train))\n",
        "plt.imshow(x_train[idx].reshape(28,28)) \n",
        "print(class_names[int(y_train[idx].item())])"
      ],
      "execution_count": 0,
      "outputs": [
        {
          "output_type": "stream",
          "text": [
            "table\n"
          ],
          "name": "stdout"
        },
        {
          "output_type": "display_data",
          "data": {
            "image/png": "[encoded data removed]",
            "text/plain": [
              "<Figure size 432x288 with 1 Axes>"
            ]
          },
          "metadata": {
            "tags": []
          }
        }
      ]
    },
    {
      "cell_type": "markdown",
      "metadata": {
        "id": "nc3OAuJkoSKp",
        "colab_type": "text"
      },
      "source": [
        "### Data preprocessing"
      ]
    },
    {
      "cell_type": "code",
      "metadata": {
        "id": "2NWpT09-oUpa",
        "colab_type": "code",
        "outputId": "868a73a1-2c22-49cb-c678-a163214a2a86",
        "colab": {
          "base_uri": "https://localhost:8080/",
          "height": 85
        }
      },
      "source": [
        "# Reshape and normalize\n",
        "x_train = x_train.reshape(x_train.shape[0], image_size, image_size, 1).astype('float32')\n",
        "x_test = x_test.reshape(x_test.shape[0], image_size, image_size, 1).astype('float32')\n",
        "\n",
        "x_train /= 255.0\n",
        "x_test /= 255.0\n",
        "\n",
        "# Convert class vectors to class matrices\n",
        "y_train = keras.utils.to_categorical(y_train, num_classes)\n",
        "y_test = keras.utils.to_categorical(y_test, num_classes)\n",
        "\n",
        "print('x_train size: {}\\nx_test size: {}\\ny_train size: {}\\ny_test size: {}'.format(\n",
        "    len(x_train), len(x_test), len(y_train), len(y_test)))"
      ],
      "execution_count": 0,
      "outputs": [
        {
          "output_type": "stream",
          "text": [
            "x_train size: 400000\n",
            "x_test size: 100000\n",
            "y_train size: 400000\n",
            "y_test size: 100000\n"
          ],
          "name": "stdout"
        }
      ]
    },
    {
      "cell_type": "markdown",
      "metadata": {
        "id": "Q5ovNtJhp5eX",
        "colab_type": "text"
      },
      "source": [
        "# II. Program the Model"
      ]
    },
    {
      "cell_type": "code",
      "metadata": {
        "id": "_eIpUmO7p_H0",
        "colab_type": "code",
        "outputId": "00d9414b-5caa-4cf3-a6aa-3bcbd272d5a1",
        "colab": {
          "base_uri": "https://localhost:8080/",
          "height": 594
        }
      },
      "source": [
        "# Define model\n",
        "model = keras.Sequential()\n",
        "model.add(layers.Convolution2D(16, (3, 3),\n",
        "                               padding='same',\n",
        "                               input_shape=x_train.shape[1:], activation='relu'))\n",
        "model.add(layers.MaxPooling2D(pool_size=(2, 2)))\n",
        "model.add(layers.Convolution2D(32, (3, 3), padding='same', activation= 'relu'))\n",
        "model.add(layers.MaxPooling2D(pool_size=(2, 2)))\n",
        "model.add(layers.Convolution2D(64, (3, 3), padding='same', activation= 'relu'))\n",
        "model.add(layers.MaxPooling2D(pool_size =(2,2)))\n",
        "model.add(layers.Flatten())\n",
        "model.add(layers.Dense(128, activation='relu'))\n",
        "model.add(layers.Dense(100, activation='softmax')) \n",
        "\n",
        "# Train model\n",
        "model.compile(optimizer = 'adam',\n",
        "              loss = 'categorical_crossentropy',\n",
        "              metrics=['accuracy', 'top_k_categorical_accuracy'])\n",
        "\n",
        "print(model.summary())"
      ],
      "execution_count": 0,
      "outputs": [
        {
          "output_type": "stream",
          "text": [
            "WARNING: Logging before flag parsing goes to stderr.\n",
            "W0718 01:59:08.045621 140389807081344 deprecation.py:506] From /usr/local/lib/python3.6/dist-packages/tensorflow/python/ops/init_ops.py:1251: calling VarianceScaling.__init__ (from tensorflow.python.ops.init_ops) with dtype is deprecated and will be removed in a future version.\n",
            "Instructions for updating:\n",
            "Call initializer instance with the dtype argument instead of passing it to the constructor\n"
          ],
          "name": "stderr"
        },
        {
          "output_type": "stream",
          "text": [
            "Model: \"sequential\"\n",
            "_________________________________________________________________\n",
            "Layer (type)                 Output Shape              Param #   \n",
            "=================================================================\n",
            "conv2d (Conv2D)              (None, 28, 28, 16)        160       \n",
            "_________________________________________________________________\n",
            "max_pooling2d (MaxPooling2D) (None, 14, 14, 16)        0         \n",
            "_________________________________________________________________\n",
            "conv2d_1 (Conv2D)            (None, 14, 14, 32)        4640      \n",
            "_________________________________________________________________\n",
            "max_pooling2d_1 (MaxPooling2 (None, 7, 7, 32)          0         \n",
            "_________________________________________________________________\n",
            "conv2d_2 (Conv2D)            (None, 7, 7, 64)          18496     \n",
            "_________________________________________________________________\n",
            "max_pooling2d_2 (MaxPooling2 (None, 3, 3, 64)          0         \n",
            "_________________________________________________________________\n",
            "flatten (Flatten)            (None, 576)               0         \n",
            "_________________________________________________________________\n",
            "dense (Dense)                (None, 128)               73856     \n",
            "_________________________________________________________________\n",
            "dense_1 (Dense)              (None, 100)               12900     \n",
            "=================================================================\n",
            "Total params: 110,052\n",
            "Trainable params: 110,052\n",
            "Non-trainable params: 0\n",
            "_________________________________________________________________\n",
            "None\n"
          ],
          "name": "stdout"
        }
      ]
    },
    {
      "cell_type": "markdown",
      "metadata": {
        "id": "ZTGSyjbbqN68",
        "colab_type": "text"
      },
      "source": [
        "# III. Train the Model"
      ]
    },
    {
      "cell_type": "code",
      "metadata": {
        "id": "T4kfU524qNCB",
        "colab_type": "code",
        "outputId": "232463f0-dfb4-46a7-88d3-733c3cebab57",
        "colab": {
          "base_uri": "https://localhost:8080/",
          "height": 611
        }
      },
      "source": [
        "model.fit(x = x_train, y = y_train, validation_split=0.1, batch_size = 256, verbose=2, epochs=15)"
      ],
      "execution_count": 0,
      "outputs": [
        {
          "output_type": "stream",
          "text": [
            "Train on 360000 samples, validate on 40000 samples\n",
            "Epoch 1/15\n",
            "360000/360000 - 13s - loss: 1.7903 - acc: 0.5610 - top_k_categorical_accuracy: 0.8040 - val_loss: 1.2985 - val_acc: 0.6733 - val_top_k_categorical_accuracy: 0.8863\n",
            "Epoch 2/15\n",
            "360000/360000 - 9s - loss: 1.1608 - acc: 0.7079 - top_k_categorical_accuracy: 0.9014 - val_loss: 1.1060 - val_acc: 0.7197 - val_top_k_categorical_accuracy: 0.9066\n",
            "Epoch 3/15\n",
            "360000/360000 - 9s - loss: 1.0212 - acc: 0.7407 - top_k_categorical_accuracy: 0.9166 - val_loss: 1.0093 - val_acc: 0.7425 - val_top_k_categorical_accuracy: 0.9173\n",
            "Epoch 4/15\n",
            "360000/360000 - 9s - loss: 0.9412 - acc: 0.7594 - top_k_categorical_accuracy: 0.9246 - val_loss: 0.9618 - val_acc: 0.7534 - val_top_k_categorical_accuracy: 0.9217\n",
            "Epoch 5/15\n",
            "360000/360000 - 9s - loss: 0.8896 - acc: 0.7721 - top_k_categorical_accuracy: 0.9301 - val_loss: 0.9219 - val_acc: 0.7638 - val_top_k_categorical_accuracy: 0.9251\n",
            "Epoch 6/15\n",
            "360000/360000 - 9s - loss: 0.8497 - acc: 0.7817 - top_k_categorical_accuracy: 0.9337 - val_loss: 0.9050 - val_acc: 0.7691 - val_top_k_categorical_accuracy: 0.9262\n",
            "Epoch 7/15\n",
            "360000/360000 - 9s - loss: 0.8201 - acc: 0.7888 - top_k_categorical_accuracy: 0.9365 - val_loss: 0.8818 - val_acc: 0.7736 - val_top_k_categorical_accuracy: 0.9294\n",
            "Epoch 8/15\n",
            "360000/360000 - 9s - loss: 0.7943 - acc: 0.7954 - top_k_categorical_accuracy: 0.9388 - val_loss: 0.8711 - val_acc: 0.7768 - val_top_k_categorical_accuracy: 0.9305\n",
            "Epoch 9/15\n",
            "360000/360000 - 9s - loss: 0.7730 - acc: 0.8001 - top_k_categorical_accuracy: 0.9408 - val_loss: 0.8559 - val_acc: 0.7819 - val_top_k_categorical_accuracy: 0.9320\n",
            "Epoch 10/15\n",
            "360000/360000 - 9s - loss: 0.7545 - acc: 0.8043 - top_k_categorical_accuracy: 0.9426 - val_loss: 0.8573 - val_acc: 0.7818 - val_top_k_categorical_accuracy: 0.9330\n",
            "Epoch 11/15\n",
            "360000/360000 - 9s - loss: 0.7395 - acc: 0.8077 - top_k_categorical_accuracy: 0.9443 - val_loss: 0.8543 - val_acc: 0.7831 - val_top_k_categorical_accuracy: 0.9312\n",
            "Epoch 12/15\n",
            "360000/360000 - 9s - loss: 0.7255 - acc: 0.8117 - top_k_categorical_accuracy: 0.9454 - val_loss: 0.8329 - val_acc: 0.7885 - val_top_k_categorical_accuracy: 0.9343\n",
            "Epoch 13/15\n",
            "360000/360000 - 9s - loss: 0.7131 - acc: 0.8140 - top_k_categorical_accuracy: 0.9465 - val_loss: 0.8386 - val_acc: 0.7878 - val_top_k_categorical_accuracy: 0.9348\n",
            "Epoch 14/15\n",
            "360000/360000 - 9s - loss: 0.7027 - acc: 0.8171 - top_k_categorical_accuracy: 0.9476 - val_loss: 0.8352 - val_acc: 0.7885 - val_top_k_categorical_accuracy: 0.9337\n",
            "Epoch 15/15\n",
            "360000/360000 - 9s - loss: 0.6916 - acc: 0.8196 - top_k_categorical_accuracy: 0.9486 - val_loss: 0.8242 - val_acc: 0.7910 - val_top_k_categorical_accuracy: 0.9349\n"
          ],
          "name": "stdout"
        },
        {
          "output_type": "execute_result",
          "data": {
            "text/plain": [
              "<tensorflow.python.keras.callbacks.History at 0x7faec204aac8>"
            ]
          },
          "metadata": {
            "tags": []
          },
          "execution_count": 11
        }
      ]
    },
    {
      "cell_type": "markdown",
      "metadata": {
        "id": "FsAuLmirrsXb",
        "colab_type": "text"
      },
      "source": [
        "# IV. Test the Model"
      ]
    },
    {
      "cell_type": "markdown",
      "metadata": {
        "id": "xznxAAVhr3mi",
        "colab_type": "text"
      },
      "source": [
        "### Evaluate overall accuracy"
      ]
    },
    {
      "cell_type": "code",
      "metadata": {
        "id": "o-GxFH5Zrwdw",
        "colab_type": "code",
        "outputId": "a47ead6c-4731-4fc1-d2c6-8aab85c3d9d9",
        "colab": {
          "base_uri": "https://localhost:8080/",
          "height": 34
        }
      },
      "source": [
        "score = model.evaluate(x_test, y_test, verbose=0)\n",
        "print('Test accuracy: {:0.2f}%'.format(score[1] * 100))"
      ],
      "execution_count": 0,
      "outputs": [
        {
          "output_type": "stream",
          "text": [
            "Test accuracy: 79.28%\n"
          ],
          "name": "stdout"
        }
      ]
    },
    {
      "cell_type": "markdown",
      "metadata": {
        "id": "wD5tH0ekr6i5",
        "colab_type": "text"
      },
      "source": [
        "### Test on random dataset element"
      ]
    },
    {
      "cell_type": "code",
      "metadata": {
        "id": "I-o60rL2r9LG",
        "colab_type": "code",
        "outputId": "ce22e938-091e-4b2e-b1a9-75d7816d0d15",
        "colab": {
          "base_uri": "https://localhost:8080/",
          "height": 286
        }
      },
      "source": [
        "idx = randint(0, len(x_test))\n",
        "img = x_test[idx]\n",
        "plt.imshow(img.squeeze()) \n",
        "pred = model.predict(np.expand_dims(img, axis=0))[0]\n",
        "ind = (-pred).argsort()[:5]\n",
        "latex = [class_names[x] for x in ind]\n",
        "print(latex)"
      ],
      "execution_count": 0,
      "outputs": [
        {
          "output_type": "stream",
          "text": [
            "['pencil', 'baseball_bat', 'knife', 'paper_clip', 'sword']\n"
          ],
          "name": "stdout"
        },
        {
          "output_type": "display_data",
          "data": {
            "image/png": "[encoded data removed]",
            "text/plain": [
              "<Figure size 432x288 with 1 Axes>"
            ]
          },
          "metadata": {
            "tags": []
          }
        }
      ]
    },
    {
      "cell_type": "markdown",
      "metadata": {
        "id": "MJByTxqGsJQr",
        "colab_type": "text"
      },
      "source": [
        "# V. Deploy the Model"
      ]
    },
    {
      "cell_type": "markdown",
      "metadata": {
        "id": "io5c0xeksLm0",
        "colab_type": "text"
      },
      "source": [
        "### Install TensorFlow.js"
      ]
    },
    {
      "cell_type": "code",
      "metadata": {
        "id": "TGBi89EmsLUd",
        "colab_type": "code",
        "outputId": "4f166d0f-a6aa-45cb-f073-402f22e43d8a",
        "colab": {
          "base_uri": "https://localhost:8080/",
          "height": 34
        }
      },
      "source": [
        "os.system(\"pip install tensorflowjs\") "
      ],
      "execution_count": 0,
      "outputs": [
        {
          "output_type": "execute_result",
          "data": {
            "text/plain": [
              "0"
            ]
          },
          "metadata": {
            "tags": []
          },
          "execution_count": 14
        }
      ]
    },
    {
      "cell_type": "markdown",
      "metadata": {
        "id": "n-pWVrNesSK9",
        "colab_type": "text"
      },
      "source": [
        "### Save and convert model"
      ]
    },
    {
      "cell_type": "code",
      "metadata": {
        "id": "eM3Vd6NvsU0i",
        "colab_type": "code",
        "outputId": "79564fef-657a-4128-c4c1-f6c1288ca9e1",
        "colab": {
          "base_uri": "https://localhost:8080/",
          "height": 34
        }
      },
      "source": [
        "model.save('keras.h5')\n",
        "os.system(\"mkdir model\")\n",
        "os.system(\"tensorflowjs_converter --input_format keras keras.h5 model/\")"
      ],
      "execution_count": 0,
      "outputs": [
        {
          "output_type": "execute_result",
          "data": {
            "text/plain": [
              "0"
            ]
          },
          "metadata": {
            "tags": []
          },
          "execution_count": 15
        }
      ]
    },
    {
      "cell_type": "markdown",
      "metadata": {
        "id": "HzIlTrz5sgx2",
        "colab_type": "text"
      },
      "source": [
        "### Zip and download model"
      ]
    },
    {
      "cell_type": "code",
      "metadata": {
        "id": "0ZqmZosasiHn",
        "colab_type": "code",
        "outputId": "b9b72070-f2d6-497b-bea3-8d6b8c3b77e8",
        "colab": {
          "base_uri": "https://localhost:8080/",
          "height": 34
        }
      },
      "source": [
        "os.system(\"cp sketchAI_classList.txt model/class_names.txt\")"
      ],
      "execution_count": 0,
      "outputs": [
        {
          "output_type": "execute_result",
          "data": {
            "text/plain": [
              "0"
            ]
          },
          "metadata": {
            "tags": []
          },
          "execution_count": 16
        }
      ]
    },
    {
      "cell_type": "code",
      "metadata": {
        "id": "TZvIKUIHskGP",
        "colab_type": "code",
        "outputId": "ec8d9ca8-165a-4a7f-d77d-157917ae76d1",
        "colab": {
          "base_uri": "https://localhost:8080/",
          "height": 34
        }
      },
      "source": [
        "os.system(\"zip -r model.zip model\")"
      ],
      "execution_count": 0,
      "outputs": [
        {
          "output_type": "execute_result",
          "data": {
            "text/plain": [
              "0"
            ]
          },
          "metadata": {
            "tags": []
          },
          "execution_count": 17
        }
      ]
    },
    {
      "cell_type": "code",
      "metadata": {
        "id": "ntfNrg0WslLx",
        "colab_type": "code",
        "colab": {}
      },
      "source": [
        "from google.colab import files\n",
        "files.download('model.zip')"
      ],
      "execution_count": 0,
      "outputs": []
    },
    {
      "cell_type": "code",
      "metadata": {
        "id": "pbfNKhekpHCm",
        "colab_type": "code",
        "colab": {}
      },
      "source": [
        ""
      ],
      "execution_count": 0,
      "outputs": []
    }
  ]
}